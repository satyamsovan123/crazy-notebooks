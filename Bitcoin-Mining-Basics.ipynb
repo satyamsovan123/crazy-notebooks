{
 "cells": [
  {
   "cell_type": "code",
   "execution_count": 7,
   "metadata": {},
   "outputs": [
    {
     "data": {
      "text/plain": [
       "'\\nLedger\\n------\\nTom -> Bill $21\\nSteve -> Bill $2\\nBill -> Harry $44\\n\\n... million of transactions\\n\\n\\na block in bitcoin world contains many transactions (like above ledger) and many blocks and chained together,\\nlike a linked list\\n\\n\\n'"
      ]
     },
     "execution_count": 7,
     "metadata": {},
     "output_type": "execute_result"
    }
   ],
   "source": [
    "#Bitcoin mining basics by below YouTube tutorial\n",
    "#https://youtu.be/ZhnJ1bkIWWk\n",
    "\n",
    "#Real Bitcoin blocks\n",
    "\n",
    "#https://www.blockchain.com/explorer\n",
    "#height - the block number\n",
    "#rightnow block difficulty level is around 20 (find nonce for which starting value of hash is 20 no of zeroes)\n",
    "\n",
    "#some theory\n",
    "\"\"\"\n",
    "Ledger\n",
    "------\n",
    "Tom -> Bill $21\n",
    "Steve -> Bill $2\n",
    "Bill -> Harry $44\n",
    "\n",
    "... million of transactions\n",
    "\n",
    "A block in bitcoin world contains many transactions (like above ledger) and many blocks and chained together,\n",
    "like a linked list.\n",
    "\n",
    "A block has a Block Number, Hash value of the previous Block and Nonce value.\n",
    "The Hash value of the entire block is calculated using SHA256 algorithm.\n",
    "The Nonce value is the difficulty level of the blockchain.\n",
    "We change the nonce value in such a way that, the first 'n' digits of Hash computed should be '0'.\n",
    "Mining is nothing, but guessing (in a super fast way) the value of nonce by which \n",
    "the block's hash value should have 'n' no of zeroes!\n",
    "\"\"\"\n",
    "\n",
    "#below is the code"
   ]
  },
  {
   "cell_type": "code",
   "execution_count": 15,
   "metadata": {},
   "outputs": [
    {
     "name": "stdout",
     "output_type": "stream",
     "text": [
      "--------------\n",
      "Mining started\n",
      "--------------\n",
      "Yay! Successfully mined bitcoins with nonce value: 27962\n",
      "------------\n",
      "Mining ended\n",
      "------------\n",
      "Mining took: 0.09588980674743652 seconds!\n",
      "00007cbf528944d758cb30f69fa699d2d270b6db1fe89f7b9800ef0a65f91b50 is the new hash value.\n"
     ]
    }
   ],
   "source": [
    "from hashlib import sha256\n",
    "import time\n",
    "\n",
    "#the maximum number of tries we can do (or we exhaust our computational power)\n",
    "MAX_NONCE = 100000000000\n",
    "\n",
    "#function for returning the encoded SHA256 text\n",
    "def SHA256(text):\n",
    "    return sha256(text.encode(\"ascii\")).hexdigest() #encode in hexadecimal\n",
    "\n",
    "#getting our nonce value\n",
    "def mine(block_number, transactions, previous_hash, prefix_zeros):\n",
    "    prefix_str = '0' * prefix_zeros\n",
    "    for nonce in range(MAX_NONCE):\n",
    "        text = str(block_number) + transactions + previous_hash + str(nonce)\n",
    "        new_hash = SHA256(text)\n",
    "        if new_hash.startswith(prefix_str):\n",
    "            print(f\"Yay! Successfully mined bitcoins with nonce value: {nonce}\")\n",
    "            return new_hash\n",
    "    \n",
    "    #if we are unable to get the nonce value inside for loop, we raise an exception\n",
    "    raise BaseException(f\"Couldn't find correct nonce value after trying {MAX_NONCE} times!\") \n",
    "\n",
    "#main entry point\n",
    "if __name__=='__main__':\n",
    "    \n",
    "    #some transactions inside a single block\n",
    "    transactions='''\n",
    "    Satyam->Steve->20,\n",
    "    Steve->Tim->45,\n",
    "    Jony->Satyam->32\n",
    "    '''\n",
    "    difficulty = 4 #try changing this to higher number and you will see it will take more time for mining as difficulty increases\n",
    "    \n",
    "    start = time.time() \n",
    "    print(\"--------------\")\n",
    "    print(\"Mining started\")\n",
    "    print(\"--------------\")\n",
    "    new_hash = mine(5, transactions, '0000000xa036944e29568d0cff17edbe038f81208fecf9a66be9a2b8321c6ec7', difficulty)\n",
    "    total_time = str((time.time() - start)) #start time - end time is total time\n",
    "    print(\"------------\")\n",
    "    print(\"Mining ended\")\n",
    "    print(\"------------\")\n",
    "    print(f\"Mining took: {total_time} seconds!\")\n",
    "    print(new_hash + \" is the new hash value.\")"
   ]
  },
  {
   "cell_type": "code",
   "execution_count": null,
   "metadata": {},
   "outputs": [],
   "source": []
  }
 ],
 "metadata": {
  "kernelspec": {
   "display_name": "Python 3",
   "language": "python",
   "name": "python3"
  },
  "language_info": {
   "codemirror_mode": {
    "name": "ipython",
    "version": 3
   },
   "file_extension": ".py",
   "mimetype": "text/x-python",
   "name": "python",
   "nbconvert_exporter": "python",
   "pygments_lexer": "ipython3",
   "version": "3.8.5"
  }
 },
 "nbformat": 4,
 "nbformat_minor": 4
}
