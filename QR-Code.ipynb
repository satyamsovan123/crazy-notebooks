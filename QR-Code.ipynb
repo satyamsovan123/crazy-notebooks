{
 "cells": [
  {
   "cell_type": "code",
   "execution_count": 20,
   "metadata": {},
   "outputs": [
    {
     "name": "stdout",
     "output_type": "stream",
     "text": [
      "test-string\n"
     ]
    }
   ],
   "source": [
    "import qrcode\n",
    "import cv2\n",
    "\n",
    "#making a qr-code\n",
    "img = qrcode.make(\"test-string\")\n",
    "img.save(\"code.jpg\")\n",
    "\n",
    "#deocoding a qr code\n",
    "#we make a object of cv2.QRCodeDetector()\n",
    "decode = cv2.QRCodeDetector()\n",
    "ip_img = cv2.imread(\"code.jpg\")\n",
    "\n",
    "#this method returns 3 values\n",
    "decoded_string, points, qr_code = decode.detectAndDecode(ip_img)\n",
    "\n",
    "print(decoded_string)"
   ]
  },
  {
   "cell_type": "code",
   "execution_count": null,
   "metadata": {},
   "outputs": [],
   "source": []
  }
 ],
 "metadata": {
  "kernelspec": {
   "display_name": "Python 3",
   "language": "python",
   "name": "python3"
  },
  "language_info": {
   "codemirror_mode": {
    "name": "ipython",
    "version": 3
   },
   "file_extension": ".py",
   "mimetype": "text/x-python",
   "name": "python",
   "nbconvert_exporter": "python",
   "pygments_lexer": "ipython3",
   "version": "3.8.5"
  }
 },
 "nbformat": 4,
 "nbformat_minor": 4
}
